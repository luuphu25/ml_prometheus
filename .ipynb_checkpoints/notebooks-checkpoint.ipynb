{
 "cells": [
  {
   "cell_type": "code",
   "execution_count": 33,
   "metadata": {},
   "outputs": [],
   "source": [
    "from urllib.parse import urlparse\n",
    "import requests\n",
    "import datetime\n",
    "import json\n",
    "\n",
    "# Disable SSL warnings\n",
    "from requests.packages.urllib3.exceptions import InsecureRequestWarning\n",
    "requests.packages.urllib3.disable_warnings(InsecureRequestWarning)\n",
    "\n",
    "DEBUG = False\n",
    "MAX_REQUEST_RETRIES = 5\n",
    "\n",
    "class Prometheus:\n",
    "    \"\"\"docstring for Prometheus.\"\"\"\n",
    "    def __init__(self, url='', end_time=None, data_chunk='1h',stored_data='1h'):\n",
    "        #self.headers = { 'Authorization': \"bearer {}\".format(token) }\n",
    "        self.url = url\n",
    "        self.prometheus_host = urlparse(self.url).netloc\n",
    "        self._all_metrics = None\n",
    "        self.data_chunk_size = data_chunk\n",
    "        self.end_time = datetime.datetime.now()\n",
    "        self.stored_data_range = stored_data\n",
    "        self.DATA_CHUNK_SIZE_LIST = {\n",
    "            '1m' : 60,\n",
    "            '3m' : 180,\n",
    "            '5m' : 300,\n",
    "            '30m': 1800,\n",
    "            '1h' : 3600,\n",
    "            '3h' : 10800,\n",
    "            '6h' : 21600,\n",
    "            '12h': 43200,\n",
    "            '1d' : 86400,\n",
    "            '2d' : 172800}\n",
    "\n",
    "    def all_metrics(self):\n",
    "        '''\n",
    "        Get the list of all the metrics that the prometheus host has\n",
    "        '''\n",
    "        if not self._all_metrics:\n",
    "            #response = requests.get('{0}/api/v1/label/__name__/values'.format(self.url),\n",
    "                                   # verify=False, # Disable ssl certificate verification temporarily\n",
    "                                   # headers=self.headers)\n",
    "            response = requests.get('{0}/api/v1/label/__name__/values'.format(self.url),\n",
    "                                    verify=False)\n",
    "            if DEBUG:\n",
    "               \n",
    "                print(\"URL => \", response.url)\n",
    "            if response.status_code == 200:\n",
    "                self._all_metrics = response.json()['data']\n",
    "            else:\n",
    "                raise Exception(\"HTTP Status Code {} {} ({})\".format(\n",
    "                    response.status_code,\n",
    "                    requests.status_codes._codes[response.status_code][0],\n",
    "                    response.content\n",
    "                ))\n",
    "            print(response)\n",
    "        return self._all_metrics\n",
    "\n",
    "    def get_metric(self, name, chunks=None, data_size=None):\n",
    "        if chunks:\n",
    "            if str(chunks) in self.DATA_CHUNK_SIZE_LIST:\n",
    "                self.data_chunk_size = str(chunks)\n",
    "                pass\n",
    "            else:\n",
    "                print(\"Invalid Chunk Size, using default value: {}\".format(self.data_chunk_size))\n",
    "            pass\n",
    "        if data_size:\n",
    "            if str(data_size) in self.DATA_CHUNK_SIZE_LIST:\n",
    "                self.stored_data_range = str(data_size)\n",
    "                pass\n",
    "            else:\n",
    "                print(\"Invalid Data Size, using default value: {}\".format(self.stored_data_range))\n",
    "            pass\n",
    "\n",
    "        if not name in self.all_metrics():\n",
    "            raise Exception(\"{} is not a valid metric\".format(name))\n",
    "        elif DEBUG:\n",
    "            print(\"Metric is valid.\")\n",
    "\n",
    "        # num_chunks = 1\n",
    "        num_chunks = int(self.DATA_CHUNK_SIZE_LIST[self.stored_data_range]/self.DATA_CHUNK_SIZE_LIST[self.data_chunk_size]) # Calculate the number of chunks using total data size and chunk size.\n",
    "        metrics = self.get_metrics_from_prom(name, num_chunks)\n",
    "        if metrics:\n",
    "            return metrics\n",
    "\n",
    "\n",
    "    def get_metrics_from_prom(self, name, chunks):\n",
    "        if not name in self.all_metrics():\n",
    "            raise Exception(\"{} is not a valid metric\".format(name))\n",
    "\n",
    "        # start = self.start_time.timestamp()\n",
    "        end_timestamp = self.end_time.timestamp()\n",
    "        chunk_size = self.DATA_CHUNK_SIZE_LIST[self.data_chunk_size]\n",
    "        start = end_timestamp - self.DATA_CHUNK_SIZE_LIST[self.stored_data_range] + chunk_size\n",
    "        data = []\n",
    "        for i in range(chunks):\n",
    "            # gc.collect() # Garbage collect to save Memory\n",
    "            if DEBUG:\n",
    "                print(\"Getting chunk: \", i)\n",
    "                print(\"Start Time: \",datetime.datetime.fromtimestamp(start))\n",
    "\n",
    "            tries = 0\n",
    "            while tries < MAX_REQUEST_RETRIES:  # Retry code in case of errors\n",
    "                response = requests.get('{0}/api/v1/query'.format(self.url),    # using the query API to get raw data\n",
    "                                        params={'query': name+'['+self.data_chunk_size+']',\n",
    "                                                'time': start\n",
    "                                                },\n",
    "                                        verify=False)\n",
    "                if DEBUG:\n",
    "                    print(response.url)\n",
    "                    pass\n",
    "\n",
    "                tries+=1\n",
    "                if response.status_code == 200:\n",
    "                    data += response.json()['data']['result']\n",
    "\n",
    "                    if DEBUG:\n",
    "                        # print(\"Size of recent chunk = \",getsizeof(data))\n",
    "                        # print(data)\n",
    "                        print(datetime.datetime.fromtimestamp(response.json()['data']['result'][0]['values'][0][0]))\n",
    "                        print(datetime.datetime.fromtimestamp(response.json()['data']['result'][0]['values'][-1][0]))\n",
    "                        pass\n",
    "\n",
    "                    del response\n",
    "                    tries = MAX_REQUEST_RETRIES\n",
    "                elif response.status_code == 504:\n",
    "                    if tries >= MAX_REQUEST_RETRIES:\n",
    "                        self.connection_errors_count+=1\n",
    "                        return False\n",
    "                    else:\n",
    "                        print(\"Retry Count: \",tries)\n",
    "                        sleep(CONNECTION_RETRY_WAIT_TIME)    # Wait for a second before making a new request\n",
    "                else:\n",
    "                    if tries >= MAX_REQUEST_RETRIES:\n",
    "                        self.connection_errors_count+=1\n",
    "                        raise Exception(\"HTTP Status Code {} {} ({})\".format(\n",
    "                            response.status_code,\n",
    "                            requests.status_codes._codes[response.status_code][0],\n",
    "                            response.content\n",
    "                        ))\n",
    "                    else:\n",
    "                        print(\"Retry Count: \",tries)\n",
    "                        sleep(CONNECTION_RETRY_WAIT_TIME)\n",
    "\n",
    "            start += chunk_size\n",
    "\n",
    "        return(json.dumps(data))\n",
    "\n",
    "    def get_current_metric_value(self, metric_name, label_config = None):\n",
    "        data = []\n",
    "        if label_config:\n",
    "            label_list = [str(key+\"=\"+ \"'\" + label_config[key]+ \"'\") for key in label_config]\n",
    "            # print(label_list)\n",
    "            query = metric_name + \"{\" + \",\".join(label_list) + \"}\"\n",
    "        else:\n",
    "            query = metric_name\n",
    "        response = requests.get('{0}/api/v1/query'.format(self.url),    # using the query API to get raw data\n",
    "                                params={'query': query},#label_config},\n",
    "                                verify=False, # Disable ssl certificate verification temporarily\n",
    "                                headers=self.headers)\n",
    "        data += response.json()['data']['result']\n",
    "        return (json.dumps(data))\n",
    "        pass\n"
   ]
  },
  {
   "cell_type": "code",
   "execution_count": 34,
   "metadata": {},
   "outputs": [],
   "source": [
    "url = \"http://61.28.251.119:9090\""
   ]
  },
  {
   "cell_type": "code",
   "execution_count": 35,
   "metadata": {},
   "outputs": [],
   "source": [
    "# get metric value \n",
    "prom = Prometheus(url, '1h', '1h')"
   ]
  },
  {
   "cell_type": "code",
   "execution_count": 36,
   "metadata": {},
   "outputs": [
    {
     "name": "stdout",
     "output_type": "stream",
     "text": [
      "<Response [200]>\n"
     ]
    }
   ],
   "source": [
    "metric = prom.get_metric('mem_used')"
   ]
  },
  {
   "cell_type": "code",
   "execution_count": 43,
   "metadata": {},
   "outputs": [],
   "source": [
    "import json"
   ]
  },
  {
   "cell_type": "code",
   "execution_count": 44,
   "metadata": {},
   "outputs": [],
   "source": [
    "## convert metric to json \n",
    "metric = json.loads(metric)"
   ]
  },
  {
   "cell_type": "code",
   "execution_count": 51,
   "metadata": {},
   "outputs": [
    {
     "ename": "SyntaxError",
     "evalue": "invalid syntax (<ipython-input-51-f047f4804a1b>, line 1)",
     "output_type": "error",
     "traceback": [
      "\u001b[1;36m  File \u001b[1;32m\"<ipython-input-51-f047f4804a1b>\"\u001b[1;36m, line \u001b[1;32m1\u001b[0m\n\u001b[1;33m    metric[0]{'__name__'}\u001b[0m\n\u001b[1;37m             ^\u001b[0m\n\u001b[1;31mSyntaxError\u001b[0m\u001b[1;31m:\u001b[0m invalid syntax\n"
     ]
    }
   ],
   "source": [
    "metric[0]{'__name__'}"
   ]
  },
  {
   "cell_type": "code",
   "execution_count": 53,
   "metadata": {},
   "outputs": [
    {
     "ename": "ModuleNotFoundError",
     "evalue": "No module named 'prometheus'",
     "output_type": "error",
     "traceback": [
      "\u001b[1;31m---------------------------------------------------------------------------\u001b[0m",
      "\u001b[1;31mModuleNotFoundError\u001b[0m                       Traceback (most recent call last)",
      "\u001b[1;32m<ipython-input-53-b3e5e9665df8>\u001b[0m in \u001b[0;36m<module>\u001b[1;34m\u001b[0m\n\u001b[0;32m      1\u001b[0m \u001b[1;31m# convert json to data frame\u001b[0m\u001b[1;33m\u001b[0m\u001b[1;33m\u001b[0m\u001b[1;33m\u001b[0m\u001b[0m\n\u001b[1;32m----> 2\u001b[1;33m \u001b[1;32mimport\u001b[0m \u001b[0mmodel\u001b[0m\u001b[1;33m\u001b[0m\u001b[1;33m\u001b[0m\u001b[0m\n\u001b[0m\u001b[0;32m      3\u001b[0m \u001b[0mdata_dict\u001b[0m \u001b[1;33m=\u001b[0m \u001b[0mget_df_from_json\u001b[0m\u001b[1;33m(\u001b[0m\u001b[0mmetric\u001b[0m\u001b[1;33m,\u001b[0m \u001b[0mdata_dict\u001b[0m\u001b[1;33m,\u001b[0m \u001b[0mdata_window\u001b[0m\u001b[1;33m)\u001b[0m\u001b[1;33m\u001b[0m\u001b[1;33m\u001b[0m\u001b[0m\n",
      "\u001b[1;32m~\\Documents\\code\\model.py\u001b[0m in \u001b[0;36m<module>\u001b[1;34m\u001b[0m\n\u001b[1;32m----> 1\u001b[1;33m \u001b[1;32mfrom\u001b[0m \u001b[0mprometheus\u001b[0m \u001b[1;32mimport\u001b[0m \u001b[0mPrometheus\u001b[0m\u001b[1;33m\u001b[0m\u001b[1;33m\u001b[0m\u001b[0m\n\u001b[0m\u001b[0;32m      2\u001b[0m \u001b[1;32mimport\u001b[0m \u001b[0mpandas\u001b[0m\u001b[1;33m\u001b[0m\u001b[1;33m\u001b[0m\u001b[0m\n\u001b[0;32m      3\u001b[0m \u001b[1;32mimport\u001b[0m \u001b[0mnumpy\u001b[0m \u001b[1;32mas\u001b[0m \u001b[0mnp\u001b[0m\u001b[1;33m\u001b[0m\u001b[1;33m\u001b[0m\u001b[0m\n\u001b[0;32m      4\u001b[0m \u001b[1;32mfrom\u001b[0m \u001b[0mnumpy\u001b[0m \u001b[1;32mimport\u001b[0m \u001b[0mfft\u001b[0m\u001b[1;33m\u001b[0m\u001b[1;33m\u001b[0m\u001b[0m\n\u001b[0;32m      5\u001b[0m \u001b[1;32mimport\u001b[0m \u001b[0mjson\u001b[0m\u001b[1;33m\u001b[0m\u001b[1;33m\u001b[0m\u001b[0m\n",
      "\u001b[1;31mModuleNotFoundError\u001b[0m: No module named 'prometheus'"
     ]
    }
   ],
   "source": [
    "# convert json to data frame\n",
    "import model\n",
    "data_dict = get_df_from_json(metric, data_dict, data_window)"
   ]
  },
  {
   "cell_type": "code",
   "execution_count": null,
   "metadata": {},
   "outputs": [],
   "source": []
  }
 ],
 "metadata": {
  "kernelspec": {
   "display_name": "Python 3",
   "language": "python",
   "name": "python3"
  },
  "language_info": {
   "codemirror_mode": {
    "name": "ipython",
    "version": 3
   },
   "file_extension": ".py",
   "mimetype": "text/x-python",
   "name": "python",
   "nbconvert_exporter": "python",
   "pygments_lexer": "ipython3",
   "version": "3.7.1"
  }
 },
 "nbformat": 4,
 "nbformat_minor": 2
}
